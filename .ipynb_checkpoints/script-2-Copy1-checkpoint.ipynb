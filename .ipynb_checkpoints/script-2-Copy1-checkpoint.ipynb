{
 "cells": [
  {
   "cell_type": "markdown",
   "metadata": {
    "_cell_guid": "de1d9e9f-96b6-497b-805a-c335f9b882b8",
    "_uuid": "291b5ef28fe537e33171f1e5bf7b1b2f23600952"
   },
   "source": [
    "# Simple Content-based Recommenders #\n",
    "\n",
    "**By Li-Yen Hsu**\n",
    "<br>\n",
    "<br>\n",
    "**Hi all. I've been playing with this dataset for a few days and I would like to share my thoughts & codes here. Please feel free to leave any comment below. And hopefully there will be more discussions for this dataset :)**\n",
    "<br>\n",
    "**Updates on 10/30/2017: added another evaluation metric, Fraction of Concordant Pairs (FCP) and included a [SVD model](http://sifter.org/simon/journal/20061211.html) using [Surprise](http://surpriselib.com/).**\n",
    "<br>\n",
    "<br>\n",
    "This work is largely inspired by the Recommender Systems section in [Andrew Ng's ML course](https://www.coursera.org/learn/machine-learning) (course notes: http://www.holehouse.org/mlclass/).\n",
    "<br>\n",
    "<br>\n",
    "Our goal here is to predict the ratings that would be given by each consumer for the restaurants he/she has not rated. A list of restaurants with the highest predicted ratings can then be recommended to each consumer. Because the restaurant ratings are numerical, predicting their values can be treated as a regression problem. Using classification techniques is also reasonable since the possible ratings are three discrete integers in this dataset. However, a three-class classification will likely predict too many ties and therefore prevent us from generating a top-n list of recommendations for a consumer. Rather than predicting the exact values of ratings that a consumer would give to certain restaurants, what is more important is predicting the ranks of these restaurants for the consumer. Thus, I will attempt to predict continuous values for the consumer ratings.\n",
    "<br>\n",
    "<br>\n",
    "I will use linear models to predict the ratings. The fundamental concepts are that each restaurant is characterized by a vector of features; each consumer preference is described by a vector of weights which has the same dimension as the product features; and the predicted rating of a restaurant-consumer pair equals the inner product of the two vectors. The mathematics is therefore equivalent to a simple linear regression. For a content-based approach, the features are already determined based on the product information, leaving the weights to be optimized. Instead of using an existing library for recommender systems, I will implement the cost functions of the problem and perform optimization using \"minimize()\" from the SciPy package. But I will also run a [SVD algorithm](http://sifter.org/simon/journal/20061211.html) using [Surprise](http://surpriselib.com/) (which is a collaborative filtering approach) at the end and compare its performance with mine."
   ]
  },
  {
   "cell_type": "code",
   "execution_count": null,
   "metadata": {
    "_cell_guid": "f368523d-9435-45de-a458-04ed5202342b",
    "_uuid": "3588092b447848f3682e38030fbf5944591554e0",
    "collapsed": true
   },
   "outputs": [],
   "source": [
    "import numpy as np \n",
    "import pandas as pd\n",
    "import matplotlib.pyplot as plt\n",
    "import random\n",
    "from sklearn.metrics import mean_squared_error\n",
    "from scipy.optimize import minimize\n",
    "\n",
    "# Note that there are no NANs in these data; '?' is\n",
    "# used when there is missing information\n",
    "accepts = pd.read_csv('../input/chefmozaccepts.csv')\n",
    "cuisine = pd.read_csv('../input/chefmozcuisine.csv')\n",
    "hours = pd.read_csv('../input/chefmozhours4.csv')\n",
    "parking = pd.read_csv('../input/chefmozparking.csv')\n",
    "geo = pd.read_csv('../input/geoplaces2.csv') \n",
    "usercuisine = pd.read_csv('../input/usercuisine.csv')\n",
    "payment = pd.read_csv('../input/userpayment.csv')\n",
    "profile = pd.read_csv('../input/userprofile.csv')\n",
    "rating = pd.read_csv('../input/rating_final.csv')"
   ]
  },
  {
   "cell_type": "markdown",
   "metadata": {
    "_cell_guid": "ba0bb5c5-15bc-4b56-bb9c-18d546b84ce1",
    "_uuid": "7828d58da4e7588a685c2bbdf49e6c7546a6b0b7"
   },
   "source": [
    "## Data Preprocessing ##\n",
    "Let's first inspect each of these data frames"
   ]
  },
  {
   "cell_type": "code",
   "execution_count": null,
   "metadata": {
    "_cell_guid": "ffb8d373-c75d-42bd-a8dc-806890d5e00a",
    "_uuid": "fdac8ad6560738a24a4b2ccba64ef9a8812c3d14",
    "collapsed": true
   },
   "outputs": [],
   "source": [
    "accepts.head()"
   ]
  },
  {
   "cell_type": "code",
   "execution_count": null,
   "metadata": {
    "_cell_guid": "db3cd80b-8c35-46d4-b54d-4f15732265db",
    "_uuid": "99eb98b63bd1f61a5d75e1c46465b90b4c9000d1",
    "collapsed": true
   },
   "outputs": [],
   "source": [
    "print(\"There are {} unique placeID's.\".format(len(accepts.placeID.unique())))\n",
    "print(\"There are {} unique Rpayment categories:\".format(len(accepts.Rpayment.unique())))\n",
    "print(accepts.Rpayment.unique())"
   ]
  },
  {
   "cell_type": "code",
   "execution_count": null,
   "metadata": {
    "_cell_guid": "7995afc1-5205-450e-95d6-ec439d51b5c1",
    "_uuid": "3c9e73593669ff624342ca130ab16b208235dbdd",
    "collapsed": true
   },
   "outputs": [],
   "source": [
    "cuisine.head()"
   ]
  },
  {
   "cell_type": "code",
   "execution_count": null,
   "metadata": {
    "_cell_guid": "b548f09b-9208-4d9b-903d-6c629ec1b8da",
    "_uuid": "d17c63b9adc381698024f405909cdc109aefb244",
    "collapsed": true
   },
   "outputs": [],
   "source": [
    "print(\"There are {} unique placeID's.\".format(len(cuisine.placeID.unique())))\n",
    "print(\"There are {} unique Rcuisine categories:\".format(len(cuisine.Rcuisine.unique())))\n",
    "print(cuisine.Rcuisine.unique())"
   ]
  },
  {
   "cell_type": "code",
   "execution_count": null,
   "metadata": {
    "_cell_guid": "e1ca71c0-2bbc-4aef-b32e-b1de9550f915",
    "_uuid": "a8ff2c3b507ee8f9277fba4828945269cc5dbbae",
    "collapsed": true
   },
   "outputs": [],
   "source": [
    "hours.head()"
   ]
  },
  {
   "cell_type": "code",
   "execution_count": null,
   "metadata": {
    "_cell_guid": "15d9c7fc-6cb1-4401-91b4-fc6b40642ae3",
    "_uuid": "38c866d4f211fbadc1f6d48d2d137f88ce76db6b",
    "collapsed": true
   },
   "outputs": [],
   "source": [
    "print(\"There are {} unique placeID's.\".format(len(hours.placeID.unique())))"
   ]
  },
  {
   "cell_type": "code",
   "execution_count": null,
   "metadata": {
    "_cell_guid": "82837542-59c7-4655-b1fd-53f31059936e",
    "_uuid": "809e9509316f1b8222cd49256772b36ccf94bb89",
    "collapsed": true
   },
   "outputs": [],
   "source": [
    "parking.head()"
   ]
  },
  {
   "cell_type": "code",
   "execution_count": null,
   "metadata": {
    "_cell_guid": "7921584c-1b77-4af0-8b26-9f5dc17513e7",
    "_uuid": "3d279de4c6fef08c5265308fea411a20aeac46a8",
    "collapsed": true
   },
   "outputs": [],
   "source": [
    "print(\"There are {} unique placeID's.\".format(len(parking.placeID.unique())))\n",
    "print(\"There are {} unique parking_lot categories:\".format(len(parking.parking_lot.unique())))\n",
    "print(parking.parking_lot.unique())"
   ]
  },
  {
   "cell_type": "code",
   "execution_count": null,
   "metadata": {
    "_cell_guid": "36b2f25e-2301-4786-ae96-4695109dab15",
    "_uuid": "3c85dfd57136a1ef0f8917c991ada168e4d625b1",
    "collapsed": true
   },
   "outputs": [],
   "source": [
    "geo.head()"
   ]
  },
  {
   "cell_type": "code",
   "execution_count": null,
   "metadata": {
    "_cell_guid": "e44d234c-4ecd-4f4a-b373-b15e656a2347",
    "_uuid": "8defc07a36a8d598266a4e6ef64366695e6f701d",
    "collapsed": true
   },
   "outputs": [],
   "source": [
    "print(\"There are {} unique placeID's.\".format(len(geo.placeID.unique())))"
   ]
  },
  {
   "cell_type": "code",
   "execution_count": null,
   "metadata": {
    "_cell_guid": "f67465bd-1d7f-4521-9312-efc7e24229bb",
    "_uuid": "5e539db9c4788031d137635d8935e2405bdfbefc",
    "collapsed": true
   },
   "outputs": [],
   "source": [
    "usercuisine.head()"
   ]
  },
  {
   "cell_type": "code",
   "execution_count": null,
   "metadata": {
    "_cell_guid": "c4332b55-8a2b-46a9-bb23-59494f862a70",
    "_uuid": "bddc389564fd71b389267d26f3f88957e2ec01af",
    "collapsed": true
   },
   "outputs": [],
   "source": [
    "print(\"There are {} unique userID's.\".format(len(usercuisine.userID.unique())))\n",
    "print(\"There are {} unique Rcuisine categories:\".format(len(usercuisine.Rcuisine.unique())))\n",
    "print(usercuisine.Rcuisine.unique())"
   ]
  },
  {
   "cell_type": "code",
   "execution_count": null,
   "metadata": {
    "_cell_guid": "5dd168fc-8789-43d7-a0ed-83c2cf30257c",
    "_uuid": "c35aa8fe570795769af80a894e0f336dbc32e991",
    "collapsed": true
   },
   "outputs": [],
   "source": [
    "payment.head()"
   ]
  },
  {
   "cell_type": "code",
   "execution_count": null,
   "metadata": {
    "_cell_guid": "46cda009-3593-43c2-b5c1-98acaf879ec2",
    "_uuid": "1b3f6f5de36c2cac6ed783f9ef8bc18915336680",
    "collapsed": true
   },
   "outputs": [],
   "source": [
    "print(\"There are {} unique userID's.\".format(len(payment.userID.unique())))\n",
    "print(\"There are {} unique Upayment categories:\".format(len(payment.Upayment.unique())))\n",
    "print(payment.Upayment.unique())"
   ]
  },
  {
   "cell_type": "code",
   "execution_count": null,
   "metadata": {
    "_cell_guid": "97c9ef15-e6f9-44ed-af3c-28118a0ab935",
    "_uuid": "cfb3be511ca138e1b977633080996eb2368a4701",
    "collapsed": true
   },
   "outputs": [],
   "source": [
    "profile.head()"
   ]
  },
  {
   "cell_type": "code",
   "execution_count": null,
   "metadata": {
    "_cell_guid": "0a30252b-aa4c-4182-b668-faebe27bcd04",
    "_uuid": "6b5fbef370cdff2a63ab01aca9e819297c8927f6",
    "collapsed": true
   },
   "outputs": [],
   "source": [
    "print(\"There are {} unique userID's.\".format(len(profile.userID.unique())))"
   ]
  },
  {
   "cell_type": "code",
   "execution_count": null,
   "metadata": {
    "_cell_guid": "7b93bcd3-ff59-42f9-a18a-f51763b706f6",
    "_uuid": "42ab37c990bbae9792cb61274ff9b804d0321673",
    "collapsed": true
   },
   "outputs": [],
   "source": [
    "rating.head()"
   ]
  },
  {
   "cell_type": "code",
   "execution_count": null,
   "metadata": {
    "_cell_guid": "6f38b578-4c25-435c-a5d9-082bef3cf916",
    "_uuid": "0aa7f5737b64c42de5a11f95f39388f92f1398cb",
    "collapsed": true
   },
   "outputs": [],
   "source": [
    "print(\"There are {} unique userID's.\".format(len(rating.userID.unique())))\n",
    "print(\"There are {} unique placeID's.\".format(len(rating.placeID.unique())))\n",
    "print(\"There are {} * 3 ratings.\".format(len(rating)))"
   ]
  },
  {
   "cell_type": "code",
   "execution_count": null,
   "metadata": {
    "_cell_guid": "353d57a1-80ef-4a5e-b857-4cc9ea376e8d",
    "_uuid": "b78d75dfe83b5ad3845099819d44ee4c6d3c20ed",
    "collapsed": true
   },
   "outputs": [],
   "source": [
    "rating.iloc[:,2:].describe()"
   ]
  },
  {
   "cell_type": "markdown",
   "metadata": {
    "_cell_guid": "d3bc27bf-3eab-4ab5-ab9c-8dd42fc804ee",
    "_uuid": "cc73a39be25b54483fe44c0cd8f8bee7c70cfb73",
    "collapsed": true
   },
   "source": [
    "Now let's see how many restaurants and users in total"
   ]
  },
  {
   "cell_type": "code",
   "execution_count": null,
   "metadata": {
    "_cell_guid": "04237c0c-47a7-4d47-b965-736d748a026b",
    "_uuid": "725e60c128515d6d3b313900b39518a36b2e92db",
    "collapsed": true
   },
   "outputs": [],
   "source": [
    "res_all = np.concatenate((accepts.placeID.unique(), cuisine.placeID.unique(), \n",
    "                          hours.placeID.unique(), parking.placeID.unique(), geo.placeID.unique()))\n",
    "res_all = np.sort( np.unique(res_all) ) # All the placeID's\n",
    "\n",
    "print(\"There are {} restaurants.\".format(len(res_all)))"
   ]
  },
  {
   "cell_type": "code",
   "execution_count": null,
   "metadata": {
    "_cell_guid": "f9398dd1-d673-4845-b94f-1c59805066ea",
    "_uuid": "4d70cc2a98852c666489d8e033c1e5097a5fbd1a",
    "collapsed": true
   },
   "outputs": [],
   "source": [
    "user_all = np.concatenate((usercuisine.userID.unique(), payment.userID.unique(), \n",
    "                           profile.userID.unique()))\n",
    "user_all = np.sort( np.unique(user_all) ) # All the userID's\n",
    "\n",
    "print(\"There are {} users.\".format(len(user_all)))"
   ]
  },
  {
   "cell_type": "markdown",
   "metadata": {
    "_cell_guid": "709873ab-c2d0-45be-8100-7513e1e8f045",
    "_uuid": "f4f9a78a5d86670b15a9c6d432c07c0e59c2cb22"
   },
   "source": [
    "Only 130 out of 938 restaurants have ratings. I will later work on these 130 only because it's not wise to recommend a restaurant without ratings. I will now create three data frames for the three types of rating, each of which will have a shape of (938, 138). A restaurant-user pair without a rating will be recorded as -1 (to be different from 0, the lowest rating)."
   ]
  },
  {
   "cell_type": "code",
   "execution_count": null,
   "metadata": {
    "_cell_guid": "4005d6b5-4d4e-425f-b1ab-2bb6b8343363",
    "_uuid": "d60b2e55de439cc8548b12d4a9136219c9f8f288",
    "collapsed": true
   },
   "outputs": [],
   "source": [
    "overall_rating = pd.DataFrame( np.zeros((len(res_all),len(user_all)))-1.0, \n",
    "                              columns=user_all, index=res_all )\n",
    "food_rating = overall_rating.copy()\n",
    "service_rating = overall_rating.copy() \n",
    "\n",
    "for r, u, o, f, s in zip(rating.placeID, rating.userID, rating.rating, rating.food_rating, \n",
    "                         rating.service_rating):\n",
    "    overall_rating.loc[r,u] = o\n",
    "    food_rating.loc[r,u] = f\n",
    "    service_rating.loc[r,u] = s"
   ]
  },
  {
   "cell_type": "markdown",
   "metadata": {
    "_cell_guid": "be3da6a2-c7ad-4da4-9d7d-18a020074191",
    "_uuid": "152aba6bb26d4b9cb902bcd1d6e546bc729f1d28"
   },
   "source": [
    "The following data frame tells us whether a restaurant-user pair has a rating. 0 means No and 1 means Yes."
   ]
  },
  {
   "cell_type": "code",
   "execution_count": null,
   "metadata": {
    "_cell_guid": "a3c240fc-03e3-4dfb-9c1f-b602c6601657",
    "_uuid": "3fa4e11df554f63e198892d9e75c3e90fca7fd01",
    "collapsed": true
   },
   "outputs": [],
   "source": [
    "review = pd.DataFrame( np.zeros(overall_rating.shape), columns=user_all, index=res_all)\n",
    "review[overall_rating >= 0] = 1"
   ]
  },
  {
   "cell_type": "markdown",
   "metadata": {
    "_cell_guid": "b476f298-8f14-49eb-93e4-f820eebc2a2e",
    "_uuid": "37408fcb032835dc67b5ce4c0dc1b87b490a3a4b"
   },
   "source": [
    "Now I will combine the information of the restaurants and create a data frame for their features. I will skip \"accepts\" and \"hours\" for now because they shouldn't be revelant for modeling. However, their information will be required when recommendations are made."
   ]
  },
  {
   "cell_type": "code",
   "execution_count": null,
   "metadata": {
    "_cell_guid": "685b28a5-3f89-4d0d-a1ec-cb850d9d831d",
    "_uuid": "ea32aae3cc20f8ed85f8a83060aee4073af7e398",
    "collapsed": true
   },
   "outputs": [],
   "source": [
    "# use dummy variables for different cuisine categories of the restaurants\n",
    "res_cuisine = pd.get_dummies(cuisine,columns=['Rcuisine'])\n",
    "\n",
    "# remove duplicate restaurant ID's. \n",
    "# A restaurant with multiple cuisine categories would have multiple columns equal 1\n",
    "res_cuisine = res_cuisine.groupby('placeID',as_index=False).sum()\n",
    "\n",
    "res_cuisine.head()"
   ]
  },
  {
   "cell_type": "markdown",
   "metadata": {
    "_cell_guid": "6cca448c-9c1d-4d0d-9586-8ba8173a07b1",
    "_uuid": "eb2c4f2f471f6a7c6e7aaa62c10b692693a66e2e"
   },
   "source": [
    "For a person who has a car, whether the restaurant has parking is relevant and may influence what rating he/she gives. Here I group the original parking options into only three categories (from best to worse): restaurant's free parking lot (2 points), other types of parking (1 point), and no parking (0 point)"
   ]
  },
  {
   "cell_type": "code",
   "execution_count": null,
   "metadata": {
    "_cell_guid": "1f6ea1c7-f00c-4da3-9f85-ee161b19ddda",
    "_uuid": "b3f27f9a87d7ae5a6a49282be846c6334657987e",
    "collapsed": true
   },
   "outputs": [],
   "source": [
    "parking.parking_lot.value_counts()"
   ]
  },
  {
   "cell_type": "code",
   "execution_count": null,
   "metadata": {
    "_cell_guid": "44436a1d-985c-4253-b814-47fcb9d2062c",
    "_uuid": "0e2d863ff86aedec07c015d9d04bae261e8c2cee",
    "collapsed": true
   },
   "outputs": [],
   "source": [
    "res_parking = parking.copy()\n",
    "res_parking.parking_lot = res_parking.parking_lot.map({'fee':1, 'none':0, 'public':1, 'yes':2,\n",
    "                                        'street':1, 'valet parking':1, 'validated parking':1})\n",
    "\n",
    "# remove duplicate restaurant ID's. \n",
    "# A restaurant with multiple parking options may have a value > 2\n",
    "res_parking = res_parking.groupby('placeID',as_index=False).sum()"
   ]
  },
  {
   "cell_type": "markdown",
   "metadata": {
    "_cell_guid": "87ee0131-3b1e-4514-8476-41451338cfe3",
    "_uuid": "b29226cad3d111951d6e2393fee425067079342b"
   },
   "source": [
    "In the data frame \"geo\", some of the columns might be useful for rating prediction, while some are just names, locations, or websites. Locations are useful when recommendations are made, so I store them in a data frame \"res_info\". "
   ]
  },
  {
   "cell_type": "code",
   "execution_count": null,
   "metadata": {
    "_cell_guid": "2b07070d-cdde-4858-9e6e-a2199bac0e7f",
    "_uuid": "bc34ce90ef289636040539ed9647539c1d031719",
    "collapsed": true
   },
   "outputs": [],
   "source": [
    "res_info = geo[['latitude','longitude','placeID','name','address','city','state']]\n",
    "\n",
    "# These features should be relevant for rating prediction since they are about services \n",
    "# and price. Especially, 'alcohol','smoking_area', and 'price' relate to 'drink_level', \n",
    "# 'smoker', and 'budget' in the user profiles \n",
    "res_service_price = geo[['placeID','alcohol','smoking_area','other_services','price']]\n",
    "print(res_service_price.alcohol.value_counts())\n",
    "print('\\n')\n",
    "print(res_service_price.smoking_area.value_counts())\n",
    "print('\\n')\n",
    "print(res_service_price.other_services.value_counts())\n",
    "print('\\n')\n",
    "print(res_service_price.price.value_counts())"
   ]
  },
  {
   "cell_type": "code",
   "execution_count": null,
   "metadata": {
    "_cell_guid": "6dc67073-b1c1-4cd3-bb74-410926b6a12e",
    "_uuid": "30a9d05fd8e52c47706fd3f82ba9f43d872c21f0",
    "collapsed": true
   },
   "outputs": [],
   "source": [
    "# 1 if alcohol is available, 0 otherwise\n",
    "res_service_price.alcohol = res_service_price.alcohol.map(lambda x: 0 if x == 'No_Alcohol_Served' else 1)\n",
    "# 1 if there is smoking area, 0 otherwise\n",
    "res_service_price.smoking_area = res_service_price.smoking_area.map(lambda x: 0 if (x == 'none') | (x == 'not permitted') else 1)\n",
    "# 1 if other services are available, 0 otherwise\n",
    "res_service_price.other_services = res_service_price.other_services.map(lambda x: 0 if x == 'none'  else 1)\n",
    "# map price levels to numbers\n",
    "res_service_price.price = res_service_price.price.map({'low': 1, 'medium': 2, 'high': 3})"
   ]
  },
  {
   "cell_type": "code",
   "execution_count": null,
   "metadata": {
    "_cell_guid": "79c80e77-000c-40d1-85a0-48ff838097db",
    "_uuid": "75eeee7561fd3d79351975f334ac9ad92138bfbc",
    "collapsed": true
   },
   "outputs": [],
   "source": [
    "# Whether these features are relevant is not so clear\n",
    "res_environment = geo[['placeID','dress_code','accessibility','Rambience','area']]\n",
    "print(res_environment.dress_code.value_counts())\n",
    "print('\\n')\n",
    "print(res_environment.accessibility.value_counts())\n",
    "print('\\n')\n",
    "print(res_environment.Rambience.value_counts())\n",
    "print('\\n')\n",
    "print(res_environment.area.value_counts())"
   ]
  },
  {
   "cell_type": "code",
   "execution_count": null,
   "metadata": {
    "_cell_guid": "351dcb42-3876-4c82-b275-14b5f51d096a",
    "_uuid": "1ae494681d57ae611ed58212efc470ae244d67bb",
    "collapsed": true
   },
   "outputs": [],
   "source": [
    "# 1 if formal dress is required, 0 otherwise\n",
    "res_environment.dress_code = res_environment.dress_code.map({'informal':0, 'casual':0, 'formal': 1})\n",
    "# map accessibility levels to numbers\n",
    "res_environment.accessibility = res_environment.accessibility.map({'no_accessibility':0, 'partially':1, 'completely': 2})\n",
    "res_environment.Rambience = res_environment.Rambience.map({'familiar':0, 'quiet': 1})\n",
    "res_environment.area = res_environment.area.map({'open':0, 'closed':1})"
   ]
  },
  {
   "cell_type": "markdown",
   "metadata": {
    "_cell_guid": "ab93189d-ac58-49cb-a731-4985b28b9bf5",
    "_uuid": "035bfd8ef5eed3d600e3aac79d391aec3d75d9f0"
   },
   "source": [
    "Now I will combine the restaurant information to one data frame"
   ]
  },
  {
   "cell_type": "code",
   "execution_count": null,
   "metadata": {
    "_cell_guid": "80a93e9c-e5fe-40d8-9045-dda8cb937f5d",
    "_uuid": "69d4ff3cfe09859f83b4e5ca58e932544bb84f1a",
    "collapsed": true
   },
   "outputs": [],
   "source": [
    "df_res = pd.DataFrame({'placeID': res_all})\n",
    "df_res = pd.merge(left=df_res, right=res_cuisine, how=\"left\", on=\"placeID\")\n",
    "df_res = pd.merge(left=df_res, right=res_parking, how=\"left\", on=\"placeID\")\n",
    "df_res = pd.merge(left=df_res, right=res_service_price, how=\"left\", on=\"placeID\")\n",
    "df_res = pd.merge(left=df_res, right=res_environment, how=\"left\", on=\"placeID\")\n",
    "\n",
    "print(df_res.shape)\n",
    "df_res.head()"
   ]
  },
  {
   "cell_type": "code",
   "execution_count": null,
   "metadata": {
    "_cell_guid": "39201fb2-2956-4e13-8a56-53400f6d5369",
    "_uuid": "e8fafb8a5252ed4b0473fad1301400cb67a08793",
    "collapsed": true
   },
   "outputs": [],
   "source": [
    "# The placeID's for the 130 restaurants with ratings\n",
    "res_rated = res_all[np.sum(review,axis=1) > 0] \n",
    "\n",
    "# tells us whether a restaurant-user pair has a rating. 0 means No and 1 means Yes.\n",
    "R = review.loc[res_rated].values  # shape = (130,138)\n",
    "\n",
    "Y_service = service_rating.loc[res_rated].values\n",
    "Y_overall = overall_rating.loc[res_rated].values\n",
    "Y_food  = food_rating.loc[res_rated].values"
   ]
  },
  {
   "cell_type": "code",
   "execution_count": null,
   "metadata": {
    "_cell_guid": "55cbfcc3-5fd0-4c41-9abd-0c66784a9942",
    "_uuid": "7d9491a307999ff35b86a3054ba7ead8cec56a8e",
    "collapsed": true
   },
   "outputs": [],
   "source": [
    "# select the indices of \"df_res\" where a restaurant has ratings\n",
    "index = np.array([x in res_rated for x in df_res['placeID'].values])\n",
    "index = np.where(index == True)[0]\n",
    "# restaurant features for the 130 restaurants with ratings\n",
    "X = df_res.loc[index, :].reset_index(drop=True)\n",
    "print(X.isnull().sum()) # all the NANs are from cuisine "
   ]
  },
  {
   "cell_type": "code",
   "execution_count": null,
   "metadata": {
    "_cell_guid": "e2e1090c-d419-4271-8fd6-b6da73042881",
    "_uuid": "8291e254d5a45d415f8a290171757741e5535168",
    "collapsed": true
   },
   "outputs": [],
   "source": [
    "X = X.fillna(0) # fill all NANs with 0\n",
    "# drop a feature if the entire column are 0\n",
    "features_to_drop = X.columns.values[np.sum(X,axis=0) == 0] \n",
    "X = X.drop(features_to_drop, axis=1)\n",
    "X = X.drop(['placeID'], axis=1)\n",
    "X.head()"
   ]
  },
  {
   "cell_type": "markdown",
   "metadata": {
    "_cell_guid": "d433b577-eb23-449e-9573-b4d87f914d72",
    "_uuid": "caeffe99ba7483c3d21366fc179b3b03d75b74cc"
   },
   "source": [
    "Now we have 32 features for each of the restaurants. Removing irrelevant features can not only avoid overfitting, but also reduce dimensionality and therefore the computation time. One thing I tried was to compute the average ratings of the 138 restaurants, and then inspect the correlation coefficients between the features and average ratings. This can rank the importance of individual features and allows us to remove those with low correlation coefficients. However, at the end of the day I found that the performance of my model changes very little as I changes the number of features. This is probably because the ratings just don't depend a lot on these features. The main factors that affect the ratings are (1) whether the food is delicious and (2) whether a customer had a satisfying experience about the service provided. These two are definitely not something that are in the data. \n",
    "<br>\n",
    "<br>\n",
    "In the following, I will only use 'parking_lot','alcohol','smoking_area','other_services','price','dress_code', and 'accessibility'. After some tests (which I skip here), I found the performance based on these 7 features is as good as a model that includes all the 32 features, and of course, this runs much faster."
   ]
  },
  {
   "cell_type": "code",
   "execution_count": null,
   "metadata": {
    "_cell_guid": "716eba8a-85df-43ac-b44a-f37ea091e4a7",
    "_uuid": "283a5f0c139f1226caa409026ff1a4896d42b51d",
    "collapsed": true
   },
   "outputs": [],
   "source": [
    "X = X[['parking_lot','alcohol','smoking_area','other_services','price','dress_code','accessibility']]\n",
    "X['x0'] = 1 # add a bias term for linear regressions\n",
    "X.head()"
   ]
  },
  {
   "cell_type": "markdown",
   "metadata": {
    "_cell_guid": "5279a84f-15da-4986-bb80-8fd4e7b78024",
    "_uuid": "09fd95060b9d2ebcb0ee353b54bec6d4029ed4af"
   },
   "source": [
    "I will try three models. The first one is a benchmark model which simply predicts the average of the ratings that a restaurant already received. Therefore, we can compare other models with this benchmark to see if we are doing better than just using average ratings. The second one is a content-based predictor which uses the restaurant features above ('X'). The third one is another content-based predictor that also takes some user information into account (details and user data processing will be shown later).\n",
    "<br>\n",
    "<br>\n",
    "Before we implement the models, let's split the existing ratings into a training set and a validation set. I will use a 75/25 split. Note that what are being split are the rating instances, not the examples of restaurants or users. Rather than just randomly splitting the data, I will ensure that every restaurant and every consumer receives/gives some ratings in the training set. This constraint makes sure that the characteristic of every restaurant and consumer is learned."
   ]
  },
  {
   "cell_type": "code",
   "execution_count": null,
   "metadata": {
    "_cell_guid": "2318903a-d2f5-4fa8-99e1-6cd448dff888",
    "_uuid": "6d5dc50580c48610b191f86ff5d748f90e8dac48",
    "collapsed": true
   },
   "outputs": [],
   "source": [
    "num_rating = np.round(np.sum(R,axis=0)) # number of ratings from each user (minimum = 3)\n",
    "\n",
    "# 25% of the existing ratings will be used as the validation set\n",
    "# So during the training, they will be flagged \n",
    "g = lambda x: int(round(x*0.25)) \n",
    "flag = np.array( [g(x) for x in num_rating] )\n",
    "\n",
    "random.seed(0)\n",
    "cond = True\n",
    "\n",
    "while cond:\n",
    "\n",
    "    R_train = R.copy()\n",
    "\n",
    "    # loop over each user\n",
    "    for i in range(R_train.shape[1]):\n",
    "        # the restaurants that are rated\n",
    "        index = list( np.where(R_train[:,i] == 1)[0] )  \n",
    "        # randomly select about 25% of them to be flagged\n",
    "        index_flag = random.sample(index,flag[i])\n",
    "        R_train[index_flag,i] = 0  \n",
    "    \n",
    "    # make sure in the traning set, each restaurant and each user receives/gives at least \n",
    "    # 2 ratings\n",
    "    if (np.sum(R_train,axis=0).min() > 1) & (np.sum(R_train,axis=1).min() > 1): \n",
    "        cond = False\n",
    "        \n",
    "R_valid = R - R_train \n",
    "# Now \"R_train\" contains 876 ones, and \"R_valid\" contains 285 ones (\"R\" contains 1161 ones)\n",
    "# The shape of \"R\", \"R_train\" and \"R_valid\" are all (130,138)  \n",
    "print(R_train.sum())\n",
    "print(R_valid.sum())"
   ]
  },
  {
   "cell_type": "markdown",
   "metadata": {
    "_cell_guid": "82e3fed9-e56f-44aa-bbbe-3dc41154a84a",
    "_uuid": "a903ddff904fbcb554094b0bf2254642b07df606"
   },
   "source": [
    "## Evaluation Metrics ##\n",
    "I will use two evaluation metrics to quantify the model performances. The first one is root-mean-squre error (RMSE), which is very standard for regression problems because it tells you how close your predictions are to the labels. However, for recommender systems, the most important thing is the ranks of the products, and RMSE sometimes doesn't work will for this purpose. For example, a perfectly ranked prediction can have a terrible RMSE by predicting the ratings on the wrong scale.\n",
    "<br>\n",
    "<br>\n",
    "Thus, the second metric I will use is **Fraction of Concordant Pairs (FCP)** Please refer to Section 5.2 of http://www.ijcai.org/Proceedings/13/Papers/449.pdf. The concept is the following. Suppose a user has rated n products, then there are n*(n-1)/2 unique pairs of ratings. If product A receives a higher rating than product B from a user and the model predicts the same, A and B are a concordant pair, otherwise a discordant pair. FCP is simply the fraction of concordant pairs among all the pairs (sum over all users). Note that because the ratings are discrete integers, many rating pairs would actually be ties. For such cases I will not include them in the calculation of FCP."
   ]
  },
  {
   "cell_type": "code",
   "execution_count": null,
   "metadata": {
    "_cell_guid": "48202bad-5f64-493a-a360-97af80310f5a",
    "_uuid": "73040c76236c1625a8185c8b3f479c2b38f1db22",
    "collapsed": true
   },
   "outputs": [],
   "source": [
    "# FCP\n",
    "def FCP(Y,Y_pred,R):\n",
    "    \n",
    "    # list of true ratings from each user (we only select users with at least two ratings)\n",
    "    Y_fcp = []  \n",
    "    Y_pred_fcp = [] # list of predicted ratings from each user \n",
    "    n_user = R.shape[1]\n",
    "    \n",
    "    for i in range(n_user):\n",
    "        \n",
    "        cond = (R.sum(axis=0) >= 2)[i] # there should be at least two ratings from a user\n",
    "        index = np.where( R[:,i] == 1)[0] # the indices (restaurants) with ratings\n",
    "    \n",
    "        if cond:\n",
    "            \n",
    "            Y_fcp.append( (Y*R)[:,i][index] )\n",
    "            Y_pred_fcp.append( (Y_pred*R)[:,i][index] )\n",
    "\n",
    "        \n",
    "    n_fcp = len(Y_fcp) # number of users with at least two ratings\n",
    "    TP = 0. # Total number of pairs\n",
    "    DP = 0. # number of discordant pairs\n",
    "    CP = 0. # number of concordant pairs (excluding ties)\n",
    "    \n",
    "    for i in range(n_fcp):\n",
    "        \n",
    "        num_Y = len(Y_fcp[i])   # number of ratings from a user\n",
    "        TP += num_Y*(num_Y-1)/2 # number of rating pairs = n*(n+1)/2 \n",
    "\n",
    "        greater = np.array([])\n",
    "        greater_pred = np.array([])\n",
    "\n",
    "        # this loop is to go over all the rating pairs\n",
    "        for j in range(num_Y-1):\n",
    "            \n",
    "            not_equal = Y_fcp[i][j] != Y_fcp[i][j+1:]\n",
    "            greater = Y_fcp[i][j] > Y_fcp[i][j+1:]\n",
    "            greater_pred = Y_pred_fcp[i][j] > Y_pred_fcp[i][j+1:]\n",
    "\n",
    "            # filter the ones that are not ties\n",
    "            greater = greater[not_equal]\n",
    "            greater_pred = greater_pred[not_equal]\n",
    "\n",
    "            DP += (greater != greater_pred).sum()\n",
    "            CP += (greater == greater_pred).sum()\n",
    "            \n",
    "    print(\"Total number of rating pairs: {}\".format(int(TP)))\n",
    "    print(\"Total number of discordant pairs: {}\".format(int(DP)))\n",
    "    print(\"Total number of concordant pairs: {}\".format(int(CP)))\n",
    "    print(\"Total number of ties: {}\".format(int(TP-DP-CP)))\n",
    "    print(\"FCP: {}\".format(CP/(CP+DP)))\n"
   ]
  },
  {
   "cell_type": "markdown",
   "metadata": {
    "_cell_guid": "e5dcfe2d-b6ea-4dad-ae3a-c810eec89c38",
    "_uuid": "4adc6004a14d765147814703dd88e0ceedb972d6"
   },
   "source": [
    "Now we can try the three models. I will only predict the overall ratings here (otherwise this notebook would be too long...)"
   ]
  },
  {
   "cell_type": "markdown",
   "metadata": {
    "_cell_guid": "afc8056f-53e2-4345-9a4a-b65018829230",
    "_uuid": "beeb6a3ea40643899875173c9c5a30ee04938b77"
   },
   "source": [
    "## Benchmark Model ##\n",
    "This model just computes the average rating of each restaurant."
   ]
  },
  {
   "cell_type": "code",
   "execution_count": null,
   "metadata": {
    "_cell_guid": "8c64ae74-6502-4c4f-a6da-9d566bb4c762",
    "_uuid": "16ca4dea69ff9fc7200bc9f519908370073f2f88",
    "collapsed": true
   },
   "outputs": [],
   "source": [
    "def GetMean(Y,R):\n",
    "\n",
    "    Y = Y*R\n",
    "    mean =  (np.sum(Y, axis=1)/np.sum((R == 1.0), axis=1)).reshape(Y.shape[0],1) * np.ones(Y.shape)\n",
    "    return mean"
   ]
  },
  {
   "cell_type": "code",
   "execution_count": null,
   "metadata": {
    "_cell_guid": "0357b0b1-5f62-4802-a9ea-ce9a4fc810dd",
    "_uuid": "17f3a2752c897a62ea5841f085104d4644de177e",
    "collapsed": true
   },
   "outputs": [],
   "source": [
    "Y = Y_overall \n",
    "Y_mean = GetMean(Y,R_train) # get the average ratings based on the training set\n",
    "Y_pred = np.zeros(Y.shape) + Y_mean # prediction \n",
    "\n",
    "# RMSE\n",
    "print(\"RMSE of the training set: {}\".format(np.sqrt(mean_squared_error(Y[R_train == 1], Y_pred[R_train == 1]))))\n",
    "print(\"RMSE of the validation set: {}\".format(np.sqrt(mean_squared_error(Y[R_valid == 1], Y_pred[R_valid == 1]))))"
   ]
  },
  {
   "cell_type": "code",
   "execution_count": null,
   "metadata": {
    "_cell_guid": "cf810f01-b5e0-4c6c-9e52-83cd537331cd",
    "_uuid": "380c7a77ae70736fbb0b0049f83561e03c367a91",
    "collapsed": true
   },
   "outputs": [],
   "source": [
    "# FCP\n",
    "print(\"Training Set:\")\n",
    "FCP(Y,Y_pred,R_train)\n",
    "print(\"\\n\")\n",
    "print(\"Validation Set:\")\n",
    "FCP(Y,Y_pred,R_valid)"
   ]
  },
  {
   "cell_type": "code",
   "execution_count": null,
   "metadata": {
    "_cell_guid": "1849df13-fa7c-4f31-b01f-f0b4d7e0b265",
    "_uuid": "8147c921a5d5f90d427fb989e032ae9b46b39e7e",
    "collapsed": true
   },
   "outputs": [],
   "source": [
    "def MakeBoxplot(Y_pred, Y_true, R, title):\n",
    "    \n",
    "    data1 = Y_pred[R == 1][Y_true[R == 1] == 0]\n",
    "    data2 = Y_pred[R == 1][Y_true[R == 1] == 1]\n",
    "    data3 = Y_pred[R == 1][Y_true[R == 1] == 2]\n",
    "    data = [data1,data2,data3]\n",
    "\n",
    "    fig = plt.figure()\n",
    "    plt.boxplot(data)\n",
    "    plt.xticks([1, 2, 3],[0,1,2])\n",
    "    plt.xlabel('True Rating')\n",
    "    plt.ylabel('Predicted Rating')\n",
    "    plt.title(title)\n",
    "    plt.show()"
   ]
  },
  {
   "cell_type": "code",
   "execution_count": null,
   "metadata": {
    "_cell_guid": "3e2ce7ab-c206-48e2-8540-8956bf18f2f9",
    "_uuid": "1c4a605f3a1d9c21735623b4be5d57c42afb6ed2",
    "collapsed": true
   },
   "outputs": [],
   "source": [
    "MakeBoxplot(Y_pred, Y, R_train, 'Training set')"
   ]
  },
  {
   "cell_type": "code",
   "execution_count": null,
   "metadata": {
    "_cell_guid": "8a14ae8a-6991-4145-bb59-e08292bb5cf9",
    "_uuid": "8d6f95dd79078871ab7beea5cdd437ce855382c2",
    "collapsed": true
   },
   "outputs": [],
   "source": [
    "MakeBoxplot(Y_pred, Y, R_valid, 'Validation set')"
   ]
  },
  {
   "cell_type": "markdown",
   "metadata": {
    "_cell_guid": "cc78beac-45f8-41b1-9c8a-a362bab475ea",
    "_uuid": "54e1fb479edd9303ba44991a602a0b9252c45bca"
   },
   "source": [
    "## Content-Based Model 1##\n",
    "Let's first implement the cost function and the gradient of its parameters using matrix factorization. For the mathematical detail, please refer to Andrew Ng's ML course: http://www.holehouse.org/mlclass/16_Recommender_Systems.html"
   ]
  },
  {
   "cell_type": "code",
   "execution_count": null,
   "metadata": {
    "_cell_guid": "60270f05-690a-4176-9cb7-cf4ab4e21a7d",
    "_uuid": "b085782ff3079d90b30646a4d09876d4d688cff7",
    "collapsed": true
   },
   "outputs": [],
   "source": [
    "# The parameters of the cost function are the weights of all the users, with a shape = \n",
    "# (n_user, n_feature), where n_user = 138 = number of users, and n_feature = 8 = number \n",
    "# of restaurant features (including the bias term). However, to feed the cost function \n",
    "# to SciPy's minimize(), the parameters of the function cannot be a matrix and has to be \n",
    "# a 1D vector\n",
    "\n",
    "def CostFunction(params, X, Y, R, lambd): # lambd is the L2 regularization coefficient\n",
    "    \n",
    "    num_user = R.shape[1]\n",
    "    num_feature = X.shape[1]\n",
    "\n",
    "    # reshape the parameters to a 2D matrix so we can perform matrix factorization\n",
    "    Theta = params.reshape(num_user, num_feature)\n",
    "    J = 0.5 * np.sum( (np.dot(X, Theta.T) * R - Y)**2 )\n",
    "\n",
    "    # regularization\n",
    "    J = J + lambd/2. * np.sum(Theta[:,:-1]**2) \n",
    "\n",
    "    return J\n",
    "\n",
    "\n",
    "def Gradient(params, X, Y, R, lambd):\n",
    "    \n",
    "    num_user = R.shape[1]\n",
    "    num_feature = X.shape[1]\n",
    "\n",
    "    Theta = params.reshape(num_user, num_feature)\n",
    "    Theta_grad = np.dot((np.dot(Theta, X.T) * R.T - Y.T), X)\n",
    "\n",
    "    # regularization\n",
    "    Theta_grad[:,:-1] = Theta_grad[:,:-1] + lambd*Theta[:,:-1]\n",
    "\n",
    "    return Theta_grad.reshape(-1)"
   ]
  },
  {
   "cell_type": "markdown",
   "metadata": {
    "_cell_guid": "987614b9-18ee-43bd-ae59-48f1d014cc69",
    "_uuid": "f291c30da68ff6a560139b4cd4a8bdd80f1b4a0d"
   },
   "source": [
    "Secondly, we need to perform \"mean normalization\" on the ratings. For each restaurant, we will subtract the average rating from all the ratings (in the training set). So after the normalization, the average rating is 0 for all the restaurant. The model will be trained on these normalized ratings instead of the original values. When we make the prediction, we will add those average ratings back.  \n",
    "<br>\n",
    "According to Andrew Ng's course, the reason for doing this is that if there is a user who never rated anything (so there is no data we can learn from this user), the predicted ratings for him/her will be the average values.\n",
    "<br>\n",
    "<br>\n",
    "In our dataset, all the users have rated some restaurants. However, (I think) mean normalization is still required to account for the overall food & service quality of a restaurant, which is not in the data. As I mentioned earlier, the ratings just don't depend that much on the restaurant features because they are not the main factors. When mean normalization is performed, what the model learns and predicts is the **deviation** from the average rating (as a function of user preference) instead of the absolute value of a rating. The average rating of each restaurant is the best we can use as a proxy of the overall food & service quality. If mean normalization is not performed, the model would perform poorly."
   ]
  },
  {
   "cell_type": "code",
   "execution_count": null,
   "metadata": {
    "_cell_guid": "d82ff300-e86c-46ce-8654-4a2788684448",
    "_uuid": "a7bf8d32ef6e449def5cc4cfccbec57c2fd842a4",
    "collapsed": true
   },
   "outputs": [],
   "source": [
    "def MeanNorm(Y,R):\n",
    "    \n",
    "    Y_norm = Y*R\n",
    "    mean =  (np.sum(Y_norm, axis=1)/np.sum((R == 1.0), axis=1)).reshape(Y.shape[0],1) * np.ones(Y.shape)\n",
    "    Y_norm = (Y_norm - mean)*R\n",
    "\n",
    "    return Y_norm, mean"
   ]
  },
  {
   "cell_type": "code",
   "execution_count": null,
   "metadata": {
    "_cell_guid": "53a6c503-d39f-4829-9aa5-ff41bf26f436",
    "_uuid": "a7b117a3b72f2373b8e79fc3de2fec676ed76346",
    "collapsed": true
   },
   "outputs": [],
   "source": [
    "Y_norm, Y_mean = MeanNorm(Y,R_train)\n",
    "\n",
    "n_user = R.shape[1]\n",
    "n_feature = X.shape[1]\n",
    "lambd = 64. # L2 regularization; I ran the optimization multiple times with different values \n",
    "            # (1, 2, 4, 8...) and 64 results in the best validation FCP\n",
    "    \n",
    "Theta = np.random.normal(0,1,(n_user, n_feature)).reshape(-1) # initialize the weights\n",
    "\n",
    "result = minimize(CostFunction, Theta, jac=Gradient, args=(X, Y_norm, R_train, lambd),\n",
    "                  options={'disp': True, 'maxiter': 500})"
   ]
  },
  {
   "cell_type": "code",
   "execution_count": null,
   "metadata": {
    "_cell_guid": "2d9e5fc7-3cbf-41c1-8eae-d736716a2924",
    "_uuid": "c8aff2adac5fe4889fcaf96eaf1e6a5456064119",
    "collapsed": true
   },
   "outputs": [],
   "source": [
    "Theta_opt = result.x.reshape(n_user, n_feature) # reshape the optimial parameters to a 2D matrix \n",
    "Y_pred = np.dot(X, Theta_opt.T) + Y_mean\n",
    "print(\"RMSE of the training set: {}\".format(np.sqrt(mean_squared_error(Y[R_train == 1], Y_pred[R_train == 1]))))\n",
    "print(\"RMSE of the validation set: {}\".format(np.sqrt(mean_squared_error(Y[R_valid == 1], Y_pred[R_valid == 1]))))"
   ]
  },
  {
   "cell_type": "code",
   "execution_count": null,
   "metadata": {
    "_cell_guid": "9ac1bab3-c7c2-4357-98f8-d557bde78a25",
    "_uuid": "a83b2b703798b7f181a34b1771d28bf45123f8aa",
    "collapsed": true
   },
   "outputs": [],
   "source": [
    "print(\"Training Set:\")\n",
    "FCP(Y,Y_pred,R_train)\n",
    "print(\"\\n\")\n",
    "print(\"Validation Set:\")\n",
    "FCP(Y,Y_pred,R_valid)"
   ]
  },
  {
   "cell_type": "code",
   "execution_count": null,
   "metadata": {
    "_cell_guid": "5cef565b-d197-4551-8b87-f7e937d322f0",
    "_uuid": "57fa85bd05e87a69157dea3a20efc05ef057be9b",
    "collapsed": true
   },
   "outputs": [],
   "source": [
    "MakeBoxplot(Y_pred, Y, R_train, 'Training set')"
   ]
  },
  {
   "cell_type": "code",
   "execution_count": null,
   "metadata": {
    "_cell_guid": "8667af32-0a4e-46f9-9734-558e008761e6",
    "_uuid": "19e36cc871d4a05b202268842d058140ec94c793",
    "collapsed": true
   },
   "outputs": [],
   "source": [
    "MakeBoxplot(Y_pred, Y, R_valid, 'Validation set')"
   ]
  },
  {
   "cell_type": "markdown",
   "metadata": {
    "_cell_guid": "d161543e-bf6e-4d92-9870-e65066ccc919",
    "_uuid": "dae3c1eaa9cdc93033f4b0a9ed011134ad9b4f4d"
   },
   "source": [
    "The performance is better than the benchmark model."
   ]
  },
  {
   "cell_type": "markdown",
   "metadata": {
    "_cell_guid": "acc997ff-41f0-4c5d-97fb-23aac13438e8",
    "_uuid": "880f4b2222c2f46771b4d42520199b1e98320acb"
   },
   "source": [
    "## Content-Based Model 2##\n",
    "For this model, I will take into account the user information that is related to some of the restaurant features, namely, 'smoker', 'drink_level', 'transport', 'budget'. Let's first process the user data."
   ]
  },
  {
   "cell_type": "code",
   "execution_count": null,
   "metadata": {
    "_cell_guid": "535ff74c-4631-487a-a8c8-13be73468ad5",
    "_uuid": "35503a81404c99beeb93aa99a62c375c2a9f8282",
    "collapsed": true
   },
   "outputs": [],
   "source": [
    "user_info = profile[['smoker','drink_level','transport','budget']]\n",
    "\n",
    "print(user_info.smoker.value_counts())\n",
    "print('\\n')\n",
    "print(user_info.drink_level.value_counts())\n",
    "print('\\n')\n",
    "print(user_info.transport.value_counts())\n",
    "print('\\n')\n",
    "print(user_info.budget.value_counts())"
   ]
  },
  {
   "cell_type": "code",
   "execution_count": null,
   "metadata": {
    "_cell_guid": "52c588e7-aea4-402d-8bb7-7b492852a1f0",
    "_uuid": "a1c61bcc7f4abccf6899042a843fd63549bccc74",
    "collapsed": true
   },
   "outputs": [],
   "source": [
    "# 1 for smokers, 0 otherwise; assume '?' to be non-smokers\n",
    "user_info.smoker = user_info.smoker.map({'false': 0, 'true': 1, '?': 0})\n",
    "# map drink levels to numbers\n",
    "user_info.drink_level = user_info.drink_level.map({'abstemious': 1, 'casual drinker': 2, 'social drinker': 3})\n",
    "# 1 for car owners, 0 otherwise; assume '?' to be not car owners\n",
    "user_info.transport = user_info.transport.map({'public':0, 'car owner':1, 'on foot':0, '?':0})\n",
    "# map budget levels to numbers; assume '?' to be medium\n",
    "user_info.budget = user_info.budget.map({'medium':2, 'low':1, 'high':3, '?':2})"
   ]
  },
  {
   "cell_type": "code",
   "execution_count": null,
   "metadata": {
    "_cell_guid": "56ebc681-2519-4bb9-9492-4bea696031ab",
    "_uuid": "e404675f6ec5973e9b85f2538935c5bd06e4663e",
    "collapsed": true
   },
   "outputs": [],
   "source": [
    "user_info.head()"
   ]
  },
  {
   "cell_type": "markdown",
   "metadata": {
    "_cell_guid": "49e5167b-2002-4165-ac0f-b2bc87c24258",
    "_uuid": "a40eef8e75f79e6475697cdb685d4bd19814e3b8"
   },
   "source": [
    "Here I create a matrix, \"Theta_modifier\" with a shape = (n_user, n_feature), to **adjust the restaurant features the users see.** Most of the elements in this matrix are one, except for those corresponding to 'parking_lot', 'smoking_area', 'alcohol', and 'price':\n",
    "<br>\n",
    "(1) If a user doesn't have a car, he/she wouldn't care if there is parking and a corresponding weight for 'parking_lot' is not needed. <br>\n",
    "(2) If a user doesn't smoke, he/she wouldn't care if there is a smoking area and a corresponding weight for 'smoking_area' is not needed. <br>\n",
    "(3) Users with different 'drink_level' care differently about whether alcohol is provided in the restaurant.<br>\n",
    "(4) Users with different 'budget' care differently about the price. People with higher budget cares less."
   ]
  },
  {
   "cell_type": "code",
   "execution_count": null,
   "metadata": {
    "_cell_guid": "4331be8a-052b-4d58-95ca-881167a08172",
    "_uuid": "472066da68ba460f5239245cacaacc9402765444",
    "collapsed": true
   },
   "outputs": [],
   "source": [
    "Theta_modifier = pd.DataFrame(np.ones((n_user, n_feature)), columns=X.columns.values) \n",
    "Theta_modifier['parking_lot'] = user_info['transport'] # 0 or 1\n",
    "Theta_modifier['alcohol'] = user_info['drink_level'] # 1, 2 or 3\n",
    "Theta_modifier['smoking_area'] = user_info['smoker'] # 0 or 1\n",
    "Theta_modifier['price'] = 1.0/user_info['budget'] # 1 (low), 1/2 (medium) or 1/3 (high)\n",
    "Theta_modifier = Theta_modifier.values"
   ]
  },
  {
   "cell_type": "markdown",
   "metadata": {
    "_cell_guid": "3fc6fd4c-1203-410c-bac8-48d055e6c32a",
    "_uuid": "88f0158c626f285f1eae5bcc1670520bd18d9f16"
   },
   "source": [
    "The parameters (weights) of the cost function correspond to those in \"Theta_modifier\" which has a value greater than 0"
   ]
  },
  {
   "cell_type": "code",
   "execution_count": null,
   "metadata": {
    "_cell_guid": "5fb39571-2e54-498b-9fdf-10dcdd2c5b6b",
    "_uuid": "fe7197ef882773ab5360bacd286bc393d3c3307d",
    "collapsed": true
   },
   "outputs": [],
   "source": [
    "def CostFunction2(params, X, Y, R, Theta_modifier, lambd):\n",
    "\n",
    "    num_user = R.shape[1]\n",
    "    num_feature = X.shape[1]\n",
    "\n",
    "    # reshape the Theta_modifier to 1-D\n",
    "    Theta_temp = Theta_modifier.reshape(-1)\n",
    "    # elements with non-zero values in Theta_modifier are multiplied to the input weights\n",
    "    Theta_temp[Theta_temp > 0] = Theta_temp[Theta_temp > 0] * params\n",
    "    \n",
    "    # reshape the parameters to a 2D matrix so we can perform matrix factorization.\n",
    "    # Elements with zero values in Theta_modifier always remain 0 in this matrix (for those \n",
    "    # users who don't have a car and those who don't smoke)\n",
    "    Theta = Theta_temp.reshape(num_user, num_feature)\n",
    "    J = 0.5 * np.sum( (np.dot(X, Theta.T) * R - Y)**2 )\n",
    "\n",
    "    # regularization\n",
    "    J = J + lambd/2. * np.sum(Theta[:,:-1]**2) \n",
    "\n",
    "    return J\n",
    "\n",
    "\n",
    "def Gradient2(params, X, Y, R, Theta_modifier, lambd):\n",
    "\n",
    "    num_user = R.shape[1]\n",
    "    num_feature = X.shape[1]\n",
    "\n",
    "    Theta_temp = Theta_modifier.reshape(-1)\n",
    "    Theta_temp[Theta_temp > 0] = Theta_temp[Theta_temp > 0] * params\n",
    "\n",
    "    Theta = Theta_temp.reshape(num_user, num_feature)\n",
    "    Theta_grad = np.dot((np.dot(Theta, X.T) * R.T - Y.T), X) \n",
    "\n",
    "    # regularization\n",
    "    Theta_grad[:,:-1] = Theta_grad[:,:-1] + lambd*Theta[:,:-1]\n",
    "    Theta_grad = Theta_grad * Theta_modifier\n",
    "\n",
    "    Theta_grad = Theta_grad[Theta_modifier > 0]\n",
    "    \n",
    "    return Theta_grad"
   ]
  },
  {
   "cell_type": "code",
   "execution_count": null,
   "metadata": {
    "_cell_guid": "9435fb2e-0a11-4fc8-a9f6-ff9d3167e3ee",
    "_uuid": "edb5f2be7760b476c9bca9d08472c394f412f2bb",
    "collapsed": true
   },
   "outputs": [],
   "source": [
    "lambd = 64. # L2 regularization; I ran the optimization multiple times with different values \n",
    "            # (1, 2, 4, 8...) and 64 results in the best validation FCP\n",
    "    \n",
    "Theta = np.random.normal(0,1,(n_user, n_feature))[Theta_modifier > 0] # initialize the weights\n",
    "\n",
    "result = minimize(CostFunction2, Theta, jac=Gradient2, args=(X, Y_norm, R_train, Theta_modifier, \n",
    "                  lambd), options={'disp': True, 'maxiter': 500})"
   ]
  },
  {
   "cell_type": "code",
   "execution_count": null,
   "metadata": {
    "_cell_guid": "dea6be86-2c5b-4016-b5cf-6291461f7ad5",
    "_uuid": "99eb1f017ed87ad7350cb687718977293f6884e1",
    "collapsed": true
   },
   "outputs": [],
   "source": [
    "# elements with non-zero values in Theta_modifier are multiplied to the optimal weights\n",
    "Theta_transformer = Theta_modifier.reshape(-1)\n",
    "Theta_transformer[Theta_transformer > 0] = Theta_transformer[Theta_transformer > 0] * result.x\n",
    "# reshape the parameters to a 2D matrix \n",
    "Theta_opt = Theta_transformer.reshape(n_user, n_feature)\n",
    "\n",
    "Y_pred = np.dot(X, Theta_opt.T) + Y_mean\n",
    "print(\"RMSE of the training set: {}\".format(np.sqrt(mean_squared_error(Y[R_train == 1], Y_pred[R_train == 1]))))\n",
    "print(\"RMSE of the validation set: {}\".format(np.sqrt(mean_squared_error(Y[R_valid == 1], Y_pred[R_valid == 1]))))"
   ]
  },
  {
   "cell_type": "code",
   "execution_count": null,
   "metadata": {
    "_cell_guid": "5e3181d5-a384-419b-870c-39fa51cb4b5c",
    "_uuid": "a53f991b27d8752cd397b0be116b9cd1a2aacfc3",
    "collapsed": true
   },
   "outputs": [],
   "source": [
    "print(\"Training Set:\")\n",
    "FCP(Y,Y_pred,R_train)\n",
    "print(\"\\n\")\n",
    "print(\"Validation Set:\")\n",
    "FCP(Y,Y_pred,R_valid)"
   ]
  },
  {
   "cell_type": "code",
   "execution_count": null,
   "metadata": {
    "_cell_guid": "c2951cb7-43f7-4cab-b9ef-f0afa7601049",
    "_uuid": "fbbf4864a4aecbc3f2cf73a7467a6466259bd6f8",
    "collapsed": true
   },
   "outputs": [],
   "source": [
    "MakeBoxplot(Y_pred, Y, R_train, 'Training set')"
   ]
  },
  {
   "cell_type": "code",
   "execution_count": null,
   "metadata": {
    "_cell_guid": "d1f73317-721f-47ab-8282-d60f91f4c2fc",
    "_uuid": "80f2bfb12ae8368f309a23ab6abb49f80c5af54c",
    "collapsed": true
   },
   "outputs": [],
   "source": [
    "MakeBoxplot(Y_pred, Y, R_valid, 'Validation set')"
   ]
  },
  {
   "cell_type": "markdown",
   "metadata": {
    "_cell_guid": "ad4a4366-1097-4caf-a79c-edb6ca1755dd",
    "_uuid": "706e1b1b6226298ca50597dcfb7bb16e6e858c15"
   },
   "source": [
    "Unfortunately this doesn't really improve the result. Also, the two models perform better than the benchmark model by only a little (in terms of FCP). Later let's try the Surprise package and see if it can do a better job."
   ]
  },
  {
   "cell_type": "code",
   "execution_count": null,
   "metadata": {
    "_cell_guid": "41b5776e-690f-4acc-8768-974b0184f242",
    "_uuid": "70a9a9f2fbfb9625bd72843f58335a9c5c80d375",
    "collapsed": true
   },
   "outputs": [],
   "source": [
    "R_test =  R*(-1) + 1.0 # 1 for those without existing ratings, 0 otherwise\n",
    "\n",
    "# predicted ratings for the restaurants that each user hasn't visited\n",
    "Y_final = Y_pred * R_test\n",
    "Y_final = pd.DataFrame( Y_final, columns=user_all, index=res_rated )\n",
    "Y_final.head()"
   ]
  },
  {
   "cell_type": "markdown",
   "metadata": {
    "_cell_guid": "5aa8f014-dd35-4614-8d5c-782f77d3a7f2",
    "_uuid": "c56d09f95a78492a3b42569d395900fe1ba02f90"
   },
   "source": [
    "With the predicted ratings for the restaurants each user hasn't visited, we can recommend the top-n list for each user along with the restaurant information. To avoid recommending a restaurant that is too far away from the user, we can use a search radius to pre-select all the places that are within this range. These should all be straightforward, so I will just stop here."
   ]
  },
  {
   "cell_type": "markdown",
   "metadata": {
    "_cell_guid": "f1ff8a36-227b-4e5e-b06a-4baee78f152e",
    "_uuid": "841bce90aba56253001ecf5852c00e624c645dff",
    "collapsed": true
   },
   "source": [
    "## SVD with the Surprise Package##\n",
    "Surprise is an easy-to-use Python package for recommender systems. Please refer to their [project page](http://surpriselib.com/) and [document page](http://surprise.readthedocs.io/en/stable/index.html#) for details of installation and tutorials. Here I will use the famous [SVD algorithm](http://sifter.org/simon/journal/20061211.html)."
   ]
  },
  {
   "cell_type": "code",
   "execution_count": null,
   "metadata": {
    "_cell_guid": "e4c2f3e8-32fb-469c-a29d-fde186185738",
    "_uuid": "f3b95706189f82d9adc783868d809adbc4170f18",
    "collapsed": true
   },
   "outputs": [],
   "source": [
    "from surprise import SVD \n",
    "from surprise.dataset import Reader, Dataset"
   ]
  },
  {
   "cell_type": "markdown",
   "metadata": {
    "_cell_guid": "e7ce3eaf-f791-4707-bcf3-b809e5421aa9",
    "_uuid": "83aa259e91e2dc36422124b33e81e920f40ef45a"
   },
   "source": [
    "To load a data frame or csv file, the columns must correspond to user id, item id and ratings (in this order). In order to compare the result of SVD with my models, we have to use the same training/validation split that are used above and transform them to the form that can be fed to Surprise."
   ]
  },
  {
   "cell_type": "code",
   "execution_count": null,
   "metadata": {
    "_cell_guid": "63d2e81e-530c-4051-8af3-50692096457d",
    "_uuid": "cc8e898f8223e9175f50789ac1f5915e425d038e",
    "collapsed": true
   },
   "outputs": [],
   "source": [
    "uID = []\n",
    "pID = []\n",
    "r = []\n",
    "\n",
    "for i in range(R.shape[1]):\n",
    "    for j in range(R.shape[0]):\n",
    "\n",
    "        if R_train[j,i] == 1:\n",
    "            \n",
    "            pID.append(res_rated[j])\n",
    "            uID.append(user_all[i])\n",
    "            r.append(Y[j,i])\n",
    "\n",
    "\n",
    "rating_train = pd.DataFrame({'userID':uID, 'placeID':pID, 'rating':r})\n",
    "rating_train = rating_train[['userID','placeID','rating']]\n",
    "\n",
    "uID = []\n",
    "pID = []\n",
    "r = []\n",
    "\n",
    "for i in range(R.shape[1]):\n",
    "    for j in range(R.shape[0]):\n",
    "\n",
    "        if R_valid[j,i] == 1:\n",
    "            \n",
    "            pID.append(res_rated[j])\n",
    "            uID.append(user_all[i])\n",
    "            r.append(Y[j,i])\n",
    "\n",
    "\n",
    "rating_valid = pd.DataFrame({'userID':uID, 'placeID':pID, 'rating':r})\n",
    "rating_valid = rating_valid[['userID','placeID','rating']]"
   ]
  },
  {
   "cell_type": "code",
   "execution_count": null,
   "metadata": {
    "_cell_guid": "efaad8de-00c8-4ffd-bc71-d6e42a6d16f1",
    "_uuid": "c18fc4d1a3a858ab7823692002392ddcd9f1e94f",
    "collapsed": true
   },
   "outputs": [],
   "source": [
    "# A reader is needed to specify the rating_scale\n",
    "reader = Reader(rating_scale=(0, 2))\n",
    "data_train = Dataset.load_from_df(rating_train, reader)\n",
    "trainset = data_train.build_full_trainset() # use the whole training set "
   ]
  },
  {
   "cell_type": "code",
   "execution_count": null,
   "metadata": {
    "_cell_guid": "f10f07e6-4e67-4c2e-84b7-67aa82afd79f",
    "_uuid": "dd7852de43afb40497000dd5201f68ba286621d5",
    "collapsed": true
   },
   "outputs": [],
   "source": [
    "model = SVD() # better performance can be done by playing with the parameters\n",
    "model.train(trainset)\n",
    "\n",
    "# my data form of ratings: shape=(130,138)\n",
    "Y_pred = pd.DataFrame( np.zeros((len(res_rated),len(user_all)))-1.0, columns=user_all, index=res_rated )\n",
    "\n",
    "size_valid = len(rating_valid)\n",
    "size_train = len(rating_train)\n",
    "r_pred_valid = np.zeros(size_valid)\n",
    "r_pred_train = np.zeros(size_train)\n",
    "\n",
    "# obtain predictions for the validation set\n",
    "for i in range(size_valid):\n",
    "    pred = model.predict(rating_valid.userID[i], rating_valid.placeID[i], verbose=False)\n",
    "    r_pred_valid[i] = pred.est\n",
    "\n",
    "# fill the predictions into my 'Y_pred' data frame\n",
    "for r, u, o in zip(rating_valid.placeID, rating_valid.userID, r_pred_valid):\n",
    "    Y_pred.loc[r,u] = o\n",
    "\n",
    "# obtain predictions for the training set    \n",
    "for i in range(size_train):\n",
    "    pred = model.predict(rating_train.userID[i], rating_train.placeID[i], verbose=False)\n",
    "    r_pred_train[i] = pred.est\n",
    "\n",
    "# fill the predictions into my 'Y_pred' data frame    \n",
    "for r, u, o in zip(rating_train.placeID, rating_train.userID, r_pred_train):\n",
    "    Y_pred.loc[r,u] = o\n",
    "    \n",
    "Y_pred = Y_pred.values    "
   ]
  },
  {
   "cell_type": "code",
   "execution_count": null,
   "metadata": {
    "_cell_guid": "6d98e0a1-0e4d-4b61-ad6f-0aaf7c24a3fe",
    "_uuid": "da9932834e28ee014e22c10f6c804b14848e1fb9",
    "collapsed": true
   },
   "outputs": [],
   "source": [
    "print(\"RMSE of the training set: {}\".format(np.sqrt(mean_squared_error(Y[R_train == 1], Y_pred[R_train == 1]))))\n",
    "print(\"RMSE of the validation set: {}\".format(np.sqrt(mean_squared_error(Y[R_valid == 1], Y_pred[R_valid == 1]))))"
   ]
  },
  {
   "cell_type": "code",
   "execution_count": null,
   "metadata": {
    "_cell_guid": "d517e8bc-e424-4da2-bbd5-cb447a15eea6",
    "_uuid": "be39230599a922fa45b5d31d32bea4070bdaf424",
    "collapsed": true
   },
   "outputs": [],
   "source": [
    "print(\"Training Set:\")\n",
    "FCP(Y,Y_pred,R_train)\n",
    "print(\"\\n\")\n",
    "print(\"Validation Set:\")\n",
    "FCP(Y,Y_pred,R_valid)"
   ]
  },
  {
   "cell_type": "code",
   "execution_count": null,
   "metadata": {
    "_cell_guid": "e834a8ea-111b-4a69-9ec7-b8a6c62ed4b4",
    "_uuid": "bb47f1d01f43c8e959b0bf8be08c648b73932683",
    "collapsed": true
   },
   "outputs": [],
   "source": [
    "MakeBoxplot(Y_pred, Y, R_train, 'Training set')"
   ]
  },
  {
   "cell_type": "code",
   "execution_count": null,
   "metadata": {
    "_cell_guid": "1a4532f4-6336-40c0-8547-18f96693c5a3",
    "_uuid": "267ae9d5c666230d5afe614d9b924df908c89b26",
    "collapsed": true
   },
   "outputs": [],
   "source": [
    "MakeBoxplot(Y_pred, Y, R_valid, 'Validation set')"
   ]
  },
  {
   "cell_type": "markdown",
   "metadata": {
    "_cell_guid": "d0f446c7-5c37-4ab1-bab1-e04a47996b18",
    "_uuid": "d1c1ab7634128e7b9c5436c609f1140f76bfae78"
   },
   "source": [
    "The performance of Surprise is kind of unstable. It's sometimes better than my models and sometime worse, which is possibly due to how the parameters are initialized."
   ]
  },
  {
   "cell_type": "markdown",
   "metadata": {
    "_cell_guid": "a22dbf1b-3c87-46be-a49f-1d393d97ab86",
    "_uuid": "0e81283891d525e08cdd34d2cd649e12ebd6233d"
   },
   "source": []
  }
 ],
 "metadata": {
  "kernelspec": {
   "display_name": "Python 3",
   "language": "python",
   "name": "python3"
  },
  "language_info": {
   "codemirror_mode": {
    "name": "ipython",
    "version": 3
   },
   "file_extension": ".py",
   "mimetype": "text/x-python",
   "name": "python",
   "nbconvert_exporter": "python",
   "pygments_lexer": "ipython3",
   "version": "3.6.3"
  }
 },
 "nbformat": 4,
 "nbformat_minor": 1
}
